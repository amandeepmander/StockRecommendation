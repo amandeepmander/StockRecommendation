{
 "cells": [
  {
   "cell_type": "code",
   "execution_count": 18,
   "metadata": {},
   "outputs": [],
   "source": [
    "# Load libraries\n",
    "import numpy as np\n",
    "import pandas as pd\n",
    "import urllib.request, json\n",
    "import datetime as dt\n",
    "from sklearn.ensemble import RandomForestRegressor\n",
    "#from functools import reduce\n",
    "#import matplotlib.pyplot as plt\n",
    "#from sklearn.feature_selection import SelectKBest\n",
    "#from sklearn.pipeline import Pipeline\n",
    "#from sklearn.preprocessing import MinMaxScaler\n",
    "#from sklearn.preprocessing import StandardScaler\n",
    "#from sklearn.metrics import accuracy_score, confusion_matrix\n",
    "#from sklearn import svm\n",
    "#from sklearn.svm import SVC\n",
    "#from sklearn import metrics"
   ]
  },
  {
   "cell_type": "code",
   "execution_count": 2,
   "metadata": {},
   "outputs": [],
   "source": [
    "## Inputs\n",
    "\n",
    "# Ticker\n",
    "ticker = 'AAPL'\n",
    "historical_days = 2000\n",
    "days_ahead_to_predict = 1 # if this changes, adjust logic below that calculates % change\n",
    "\n",
    "# API Key for Alpha Vantage\n",
    "api_key = 'A3Y10PJZ4M4FYKSW'"
   ]
  },
  {
   "cell_type": "code",
   "execution_count": 5,
   "metadata": {},
   "outputs": [],
   "source": [
    "# Get daily adjusted stock price data\n",
    "url_string_adjdaily = 'https://www.alphavantage.co/query?function=TIME_SERIES_DAILY_ADJUSTED&symbol=%s&outputsize=full&apikey=%s'%(ticker, api_key)\n",
    "with urllib.request.urlopen(url_string_adjdaily) as url:\n",
    "    data = json.loads(url.read().decode())\n",
    "    # Extract data\n",
    "    data = data['Time Series (Daily)']\n",
    "    df_adjclose = pd.DataFrame(columns=['Date','AdjClose'])\n",
    "    for k,v in data.items():\n",
    "        date = dt.datetime.strptime(k, '%Y-%m-%d')\n",
    "        data_row = [date.date(), float(v['5. adjusted close'])]\n",
    "        df_adjclose.loc[-1,:] = data_row\n",
    "        df_adjclose.index = df_adjclose.index + 1"
   ]
  },
  {
   "cell_type": "code",
   "execution_count": 6,
   "metadata": {},
   "outputs": [],
   "source": [
    "# Take last x number of data points\n",
    "df_adjclose = df_adjclose.head(historical_days)\n",
    "\n",
    "# Drop date variable\n",
    "df_final = df_adjclose.drop(['Date'], 1)\n",
    "\n",
    "# Reverse the dataframe to get data in chronological order\n",
    "df_final = df_final.iloc[::-1]"
   ]
  },
  {
   "cell_type": "code",
   "execution_count": 13,
   "metadata": {},
   "outputs": [],
   "source": [
    "# convert an array of values into a dataset matrix\n",
    "def create_dataset(dataset, look_back=1):\n",
    "    dataX, dataY = [], []\n",
    "    for i in range(len(dataset)-look_back-1):\n",
    "        a = dataset[i:(i+look_back), 0]\n",
    "        dataX.append(a)\n",
    "        dataY.append(dataset[i + look_back, 0])\n",
    "    return np.array(dataX), np.array(dataY)\n",
    "\n",
    "\n",
    "# load the dataset\n",
    "dataframe = df_final['AdjClose']\n",
    "dataset = dataframe.values\n",
    "dataset = dataset.astype('float32')\n",
    "dataset = dataset.reshape(-1, 1)"
   ]
  },
  {
   "cell_type": "code",
   "execution_count": 14,
   "metadata": {},
   "outputs": [
    {
     "data": {
      "text/plain": [
       "array([[ 50.5887],\n",
       "       [ 49.5913],\n",
       "       [ 49.9441],\n",
       "       ...,\n",
       "       [218.96  ],\n",
       "       [220.82  ],\n",
       "       [227.01  ]], dtype=float32)"
      ]
     },
     "execution_count": 14,
     "metadata": {},
     "output_type": "execute_result"
    }
   ],
   "source": [
    "dataset"
   ]
  },
  {
   "cell_type": "code",
   "execution_count": 15,
   "metadata": {},
   "outputs": [],
   "source": [
    "look_back = 100\n",
    "trainX, trainY = create_dataset(dataset, look_back)"
   ]
  },
  {
   "cell_type": "code",
   "execution_count": 19,
   "metadata": {},
   "outputs": [
    {
     "data": {
      "text/plain": [
       "RandomForestRegressor(bootstrap=True, criterion='mse', max_depth=None,\n",
       "                      max_features='auto', max_leaf_nodes=None,\n",
       "                      min_impurity_decrease=0.0, min_impurity_split=None,\n",
       "                      min_samples_leaf=1, min_samples_split=2,\n",
       "                      min_weight_fraction_leaf=0.0, n_estimators=20,\n",
       "                      n_jobs=None, oob_score=False, random_state=0, verbose=0,\n",
       "                      warm_start=False)"
      ]
     },
     "execution_count": 19,
     "metadata": {},
     "output_type": "execute_result"
    }
   ],
   "source": [
    "regressor = RandomForestRegressor(n_estimators=20, random_state=0)\n",
    "regressor.fit(trainX, trainY)"
   ]
  },
  {
   "cell_type": "code",
   "execution_count": 22,
   "metadata": {},
   "outputs": [
    {
     "name": "stderr",
     "output_type": "stream",
     "text": [
      "/misc/DLshare/home/rpcdz397/Projects/Marketing_Optimization/LTVModel/lib/python3.7/site-packages/sklearn/externals/joblib/__init__.py:15: DeprecationWarning: sklearn.externals.joblib is deprecated in 0.21 and will be removed in 0.23. Please import this functionality directly from joblib, which can be installed with: pip install joblib. If this warning is raised when loading pickled models, you may need to re-serialize those models with scikit-learn 0.21+.\n",
      "  warnings.warn(msg, category=DeprecationWarning)\n"
     ]
    },
    {
     "data": {
      "text/plain": [
       "['RFmodel_AAPL.sav']"
      ]
     },
     "execution_count": 22,
     "metadata": {},
     "output_type": "execute_result"
    }
   ],
   "source": [
    "# Save model file\n",
    "from sklearn.externals import joblib\n",
    "filename = 'RFmodel_AAPL.sav'\n",
    "joblib.dump(regressor, filename)"
   ]
  },
  {
   "cell_type": "code",
   "execution_count": 23,
   "metadata": {},
   "outputs": [],
   "source": [
    "# Get daily adjusted stock price data\n",
    "url_string_adjdaily = 'https://www.alphavantage.co/query?function=TIME_SERIES_DAILY_ADJUSTED&symbol=%s&outputsize=full&apikey=%s'%(ticker, api_key)\n",
    "with urllib.request.urlopen(url_string_adjdaily) as url:\n",
    "    data = json.loads(url.read().decode())\n",
    "    # Extract data\n",
    "    data = data['Time Series (Daily)']\n",
    "    df_adjclose = pd.DataFrame(columns=['Date','AdjClose'])\n",
    "    for k,v in data.items():\n",
    "        date = dt.datetime.strptime(k, '%Y-%m-%d')\n",
    "        data_row = [date.date(), float(v['5. adjusted close'])]\n",
    "        df_adjclose.loc[-1,:] = data_row\n",
    "        df_adjclose.index = df_adjclose.index + 1\n",
    "\n",
    "historical_days = 100\n",
    "# Take last x number of data points\n",
    "df_adjclose_pred = df_adjclose.head(historical_days)\n",
    "\n",
    "# Drop date variable\n",
    "df_final_pred = df_adjclose_pred.drop(['Date'], 1)\n",
    "\n",
    "# Reverse the dataframe to get data in chronological order\n",
    "df_final_pred = df_final_pred.iloc[::-1]"
   ]
  },
  {
   "cell_type": "code",
   "execution_count": 24,
   "metadata": {},
   "outputs": [],
   "source": [
    "# load the dataset\n",
    "dataframe_pred = df_final_pred['AdjClose']\n",
    "dataset_pred = dataframe_pred.values\n",
    "dataset_pred = dataset_pred.astype('float32')\n",
    "dataset_pred = dataset_pred.reshape(1, -1)\n",
    "\n",
    "# load the model from disk\n",
    "loaded_model = joblib.load(filename)\n",
    "\n",
    "# Make prediction\n",
    "#pred_data = numpy.reshape(dataset_pred, (dataset_pred.shape[0], 1, dataset_pred.shape[1]))\n"
   ]
  },
  {
   "cell_type": "code",
   "execution_count": 25,
   "metadata": {},
   "outputs": [
    {
     "name": "stdout",
     "output_type": "stream",
     "text": [
      "[220.51719666]\n"
     ]
    }
   ],
   "source": [
    "pred = loaded_model.predict(dataset_pred)\n",
    "print(pred)"
   ]
  }
 ],
 "metadata": {
  "kernelspec": {
   "display_name": "machinelearning",
   "language": "python",
   "name": "machinelearning"
  },
  "language_info": {
   "codemirror_mode": {
    "name": "ipython",
    "version": 3
   },
   "file_extension": ".py",
   "mimetype": "text/x-python",
   "name": "python",
   "nbconvert_exporter": "python",
   "pygments_lexer": "ipython3",
   "version": "3.6.4"
  }
 },
 "nbformat": 4,
 "nbformat_minor": 4
}
